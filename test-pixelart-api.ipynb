{
 "cells": [
  {
   "cell_type": "code",
   "execution_count": 11,
   "metadata": {},
   "outputs": [],
   "source": [
    "import requests\n",
    "import os.path\n",
    "\n",
    "def write_text(data: str, path: str):\n",
    "    with open(path, 'w') as file:\n",
    "        file.write(data)\n",
    "\n",
    "desktop_path = os.path.expanduser(\"~/Desktop/test.svg\")\n",
    "\n",
    "url = 'https://api.dicebear.com/8.x/pixel-art/svg'\n",
    "\n",
    "svg = requests.get(url).text\n",
    "\n",
    "write_text(svg, desktop_path)"
   ]
  }
 ],
 "metadata": {
  "kernelspec": {
   "display_name": "Python 3",
   "language": "python",
   "name": "python3"
  },
  "language_info": {
   "codemirror_mode": {
    "name": "ipython",
    "version": 3
   },
   "file_extension": ".py",
   "mimetype": "text/x-python",
   "name": "python",
   "nbconvert_exporter": "python",
   "pygments_lexer": "ipython3",
   "version": "3.9.6"
  }
 },
 "nbformat": 4,
 "nbformat_minor": 2
}
