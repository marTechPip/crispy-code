{
 "cells": [
  {
   "cell_type": "code",
   "execution_count": null,
   "metadata": {},
   "outputs": [],
   "source": [
    "import json\n",
    "import requests\n",
    "import datetime as dt\n",
    "import pandas as pd\n",
    "import urllib.parse\n",
    "import plotly.express as px\n",
    "\n",
    "from tqdm import tqdm\n",
    "\n",
    "import sqlalchemy \n",
    "from sqlalchemy import create_engine\n",
    "from sqlalchemy.sql import text\n",
    "\n",
    "import os"
   ]
  },
  {
   "cell_type": "code",
   "execution_count": null,
   "metadata": {},
   "outputs": [],
   "source": [
    "start_date = dt.date.today() + dt.timedelta(days=-90)\n",
    "end_date = dt.date.today() + dt.timedelta(days=-1)\n",
    "\n",
    "with open(os.getenv('USER_PATH'), 'r') as f:\n",
    "    config = json.load(f)\n",
    "\n",
    "config['database'] = config['database'] \n",
    "\n",
    "engine = sqlalchemy.create_engine('postgresql://'+config['user']+':'+config['password']+'@'+config['host']+':'+str(config['port'])+'/'+config['database'], pool_pre_ping=True)a"
   ]
  },
  {
   "cell_type": "code",
   "execution_count": null,
   "metadata": {},
   "outputs": [],
   "source": [
    "df_sf = pd.read_csv('./sf_export.csv')\n",
    "df_sf = df_sf[[y for y in df_sf.columns[0:10]]]"
   ]
  },
  {
   "cell_type": "code",
   "execution_count": null,
   "metadata": {},
   "outputs": [
    {
     "name": "stderr",
     "output_type": "stream",
     "text": [
      "100%|██████████| 5/5 [00:07<00:00,  1.54s/it]\n"
     ]
    }
   ],
   "source": [
    "# create blocks\n",
    "days_per_block = 20\n",
    "dates = [y.date() for y in pd.date_range(start_date, end_date)]\n",
    "# orders\n",
    "orders = []\n",
    "for x in tqdm(range(0, len(dates), days_per_block)):\n",
    "\tthis_start_date = dates[x]\n",
    "\ttry:\n",
    "\t\tthis_end_date = dates[x + days_per_block - 1]\n",
    "\texcept:\n",
    "\t\tthis_end_date = max(dates)\n",
    "\tq = f'''SELECT\n",
    "\t\t\tcu.id as company_user_id,\n",
    "\t\t\tcu.first_name,\n",
    "\t\t\tcu.last_name,\n",
    "\t\t\tcu.email,\n",
    "\t\t\tdc.name AS company_name,\n",
    "\t\t\tisc.industry_category_summarized_name,\n",
    "\t\t\tbr.business_region_name,\n",
    "\t\t\tco.created_dt as order_created_dt,\n",
    "\t\t\tco.id as company_order_id,\n",
    "\t\t\tfos.company_order_shift_id\n",
    "\t\tFROM\n",
    "\t\t\tdds.dl_live_core_company_user cu\n",
    "\t\tJOIN\n",
    "\t\t\tcds.fact_company_order co\n",
    "\t\t\tON cu.id = co.created_by_id\n",
    "\t\tJOIN\n",
    "\t\t\tcds.dim_company dc\n",
    "\t\t\tON cu.company_id = dc.company_id\n",
    "\t\tJOIN\n",
    "\t\t\tcds.dim_industry_subcategory isc\n",
    "\t\t\tON dc.industry_subcategory_id = isc.industry_subcategory_id\n",
    "\t\tJOIN\n",
    "\t\t\tcds.fact_company_order_shift fos\n",
    "\t\t\tON co.id = fos.company_order_id\n",
    "\t\tJOIN\n",
    "\t\t\tcds.dim_job_category jc\n",
    "\t\t\tON fos.job_category_id = jc.job_category_id\n",
    "\t\tJOIN\n",
    "\t\t\tcds.dim_job_location jl\n",
    "\t\t\tON fos.job_location_id = jl.job_location_id\n",
    "\t\tJOIN\n",
    "\t\t\tcds.dim_business_region br\n",
    "\t\t\tON jl.business_region_id = br.business_region_id\n",
    "\t\tWHERE\n",
    "\t\t\tco.created_dt BETWEEN '{this_start_date}' AND '{this_end_date}';'''\n",
    "\ttmp = pd.read_sql(q, engine)\n",
    "\torders.append(tmp)\n",
    "orders = pd.concat(orders).reset_index(drop=True)"
   ]
  },
  {
   "cell_type": "code",
   "execution_count": null,
   "metadata": {},
   "outputs": [],
   "source": [
    "metrics = ['company_order_id', 'company_order_shift_id']\n",
    "dims = [y for y in orders if y not in metrics]\n",
    "orders.groupby(dims)[metrics].nunique().reset_index(drop=False).rename(columns={y:f'unique_{y[:-3]}s' for y in metrics}).to_excel('./user_orders_detail.xlsx')"
   ]
  },
  {
   "cell_type": "code",
   "execution_count": null,
   "metadata": {},
   "outputs": [
    {
     "data": {
      "text/plain": [
       "24592"
      ]
     },
     "execution_count": 155,
     "metadata": {},
     "output_type": "execute_result"
    }
   ],
   "source": [
    "len(orders.groupby(dims)[metrics].nunique().reset_index(drop=False).rename(columns={y:f'unique_{y[:-3]}s' for y in metrics}))"
   ]
  }
 ],
 "metadata": {
  "kernelspec": {
   "display_name": "Python 3",
   "language": "python",
   "name": "python3"
  },
  "language_info": {
   "codemirror_mode": {
    "name": "ipython",
    "version": 3
   },
   "file_extension": ".py",
   "mimetype": "text/x-python",
   "name": "python",
   "nbconvert_exporter": "python",
   "pygments_lexer": "ipython3",
   "version": "3.11.9"
  }
 },
 "nbformat": 4,
 "nbformat_minor": 2
}
